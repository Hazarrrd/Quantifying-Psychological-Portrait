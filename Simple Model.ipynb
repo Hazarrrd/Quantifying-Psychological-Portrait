{
 "cells": [
  {
   "cell_type": "markdown",
   "metadata": {},
   "source": [
    "# Simple frequentionist model\n",
    "This model represents a simple frequentionists-based probability estimator given partial data. It will work well with only few observations. However as more questions are ansered, the number of data in conditioned probability table will decrase exponentialy. On avarage, we will only have data to accomodate for 8 observation, as \\\\(log_5(10^6) = 8.53\\\\)\n"
   ]
  },
  {
   "cell_type": "code",
   "execution_count": 6,
   "metadata": {},
   "outputs": [],
   "source": [
    "from common import load_joint"
   ]
  },
  {
   "cell_type": "code",
   "execution_count": 10,
   "metadata": {},
   "outputs": [],
   "source": [
    "class FrequentionistModel:\n",
    "    def __init__(self):\n",
    "        self._joint = load_joint(10_000)\n",
    "        self._observed = dict()\n",
    "        \n",
    "    def observe(self, x: dict) -> None:\n",
    "        self._observed = {**self._observed, **x}\n",
    "        \n",
    "    def clear_observations(self):\n",
    "        self._observed = {}\n",
    "    \n",
    "    def predict_proba(self, column_name: str) -> dict:\n",
    "        posterior = self._joint\n",
    "        for key, value in self._observed.items():\n",
    "            posterior = posterior[posterior[key] == value]\n",
    "            \n",
    "        # Return uniform distribution if no data is available\n",
    "        if len(posterior) == 0:\n",
    "            return {i: 0.2 for i in range(1, 6)}\n",
    "\n",
    "        posterior_probs = posterior[column_name].where(lambda x: x != 0).value_counts(True).to_dict()\n",
    "        \n",
    "        # Fill non-observed with zero probability\n",
    "        for i in range(1, 6):\n",
    "            if i not in posterior_probs.keys():\n",
    "                posterior_probs[i] = 0\n",
    "                \n",
    "        return posterior_probs"
   ]
  },
  {
   "cell_type": "code",
   "execution_count": 11,
   "metadata": {},
   "outputs": [],
   "source": [
    "model = FrequentionistModel()"
   ]
  },
  {
   "cell_type": "markdown",
   "metadata": {},
   "source": [
    "## Example prior\n",
    "For start, we can ask the model what is the probability distribution over statement \"I am the life of the party.\", where 1 means \"I totaly disagree\" and 5 means \"I totaly agree\". We can se that most people from set are generaly not a party beasts, however most people (28.5%) will score this as netural (3)"
   ]
  },
  {
   "cell_type": "code",
   "execution_count": 12,
   "metadata": {},
   "outputs": [
    {
     "data": {
      "text/plain": [
       "{3.0: 0.28201511335012597,\n",
       " 1.0: 0.2478589420654912,\n",
       " 2.0: 0.20161209068010075,\n",
       " 4.0: 0.1892191435768262,\n",
       " 5.0: 0.07929471032745591}"
      ]
     },
     "execution_count": 12,
     "metadata": {},
     "output_type": "execute_result"
    }
   ],
   "source": [
    "model.predict_proba(\"EXT1\")"
   ]
  },
  {
   "cell_type": "markdown",
   "metadata": {},
   "source": [
    "## Conditioning on introvertic anwsers\n",
    "When we score 5 on \"I don't talk a lot.\" and 1 on \"I feel comfortable around people.\", anwsering a life of the party as 1 will be over 80% sure"
   ]
  },
  {
   "cell_type": "code",
   "execution_count": 13,
   "metadata": {},
   "outputs": [
    {
     "data": {
      "text/plain": [
       "{1.0: 0.8012820512820513,\n",
       " 2.0: 0.08974358974358974,\n",
       " 3.0: 0.07051282051282051,\n",
       " 5.0: 0.019230769230769232,\n",
       " 4.0: 0.019230769230769232}"
      ]
     },
     "execution_count": 13,
     "metadata": {},
     "output_type": "execute_result"
    }
   ],
   "source": [
    "model.observe({\"EXT2\": 5.0, \"EXT3\": 1.0})\n",
    "model.predict_proba(\"EXT1\")"
   ]
  },
  {
   "cell_type": "markdown",
   "metadata": {},
   "source": [
    "## Conditioning on extravertic anwsers\n",
    "When we do the oposite - set 1 on \"I don't talk a lot.\" and 5 on \"I feel comfortable around people.\", we can predict agreeing statements (4 & 5) with over 67% confidance"
   ]
  },
  {
   "cell_type": "code",
   "execution_count": 15,
   "metadata": {},
   "outputs": [
    {
     "data": {
      "text/plain": [
       "{4.0: 0.36610878661087864,\n",
       " 5.0: 0.32426778242677823,\n",
       " 3.0: 0.2196652719665272,\n",
       " 2.0: 0.04497907949790795,\n",
       " 1.0: 0.04497907949790795}"
      ]
     },
     "execution_count": 15,
     "metadata": {},
     "output_type": "execute_result"
    }
   ],
   "source": [
    "model.clear_observations()\n",
    "model.observe({\"EXT2\": 1.0, \"EXT3\": 5.0})\n",
    "model.predict_proba(\"EXT1\")"
   ]
  }
 ],
 "metadata": {
  "kernelspec": {
   "display_name": "Python 3",
   "language": "python",
   "name": "python3"
  },
  "language_info": {
   "codemirror_mode": {
    "name": "ipython",
    "version": 3
   },
   "file_extension": ".py",
   "mimetype": "text/x-python",
   "name": "python",
   "nbconvert_exporter": "python",
   "pygments_lexer": "ipython3",
   "version": "3.7.5"
  }
 },
 "nbformat": 4,
 "nbformat_minor": 4
}
