{
 "cells": [
  {
   "cell_type": "code",
   "execution_count": 2,
   "metadata": {},
   "outputs": [],
   "source": [
    "import pandas as pd\n",
    "import seaborn as sns\n",
    "import pandas_profiling as pp\n",
    "import tpot\n",
    "import torch"
   ]
  },
  {
   "cell_type": "code",
   "execution_count": 51,
   "metadata": {},
   "outputs": [
    {
     "output_type": "execute_result",
     "data": {
      "text/plain": "tensor([[87,  2],\n        [ 3, 98]])"
     },
     "metadata": {},
     "execution_count": 51
    }
   ],
   "source": [
    "x = torch.tensor([[1,2,], [3,4]])\n",
    "y = torch.tensor([[87,98,], [99,100]])\n",
    "\n",
    "#x[torch.tensor([0, 1])] = y\n",
    "\n",
    "mask = torch.tensor([[True, False], [False, True]])\n",
    "\n",
    "indices = (torch.tensor([0, 1]), torch.tensor([1])) \n",
    "\n",
    "z1 = x.masked_scatter(mask, y)\n",
    "z1"
   ]
  },
  {
   "cell_type": "markdown",
   "metadata": {},
   "source": [
    "## Load Dataset"
   ]
  },
  {
   "cell_type": "code",
   "execution_count": 2,
   "metadata": {},
   "outputs": [
    {
     "name": "stdout",
     "output_type": "stream",
     "text": [
      "['EXT1', 'EXT2', 'EXT3', 'EXT4', 'EXT5', 'EXT6', 'EXT7', 'EXT8', 'EXT9', 'EXT10', 'EST1', 'EST2', 'EST3', 'EST4', 'EST5', 'EST6', 'EST7', 'EST8', 'EST9', 'EST10', 'AGR1', 'AGR2', 'AGR3', 'AGR4', 'AGR5', 'AGR6', 'AGR7', 'AGR8', 'AGR9', 'AGR10', 'CSN1', 'CSN2', 'CSN3', 'CSN4', 'CSN5', 'CSN6', 'CSN7', 'CSN8', 'CSN9', 'CSN10', 'OPN1', 'OPN2', 'OPN3', 'OPN4', 'OPN5', 'OPN6', 'OPN7', 'OPN8', 'OPN9', 'OPN10', 'EXT1_E', 'EXT2_E', 'EXT3_E', 'EXT4_E', 'EXT5_E', 'EXT6_E', 'EXT7_E', 'EXT8_E', 'EXT9_E', 'EXT10_E', 'EST1_E', 'EST2_E', 'EST3_E', 'EST4_E', 'EST5_E', 'EST6_E', 'EST7_E', 'EST8_E', 'EST9_E', 'EST10_E', 'AGR1_E', 'AGR2_E', 'AGR3_E', 'AGR4_E', 'AGR5_E', 'AGR6_E', 'AGR7_E', 'AGR8_E', 'AGR9_E', 'AGR10_E', 'CSN1_E', 'CSN2_E', 'CSN3_E', 'CSN4_E', 'CSN5_E', 'CSN6_E', 'CSN7_E', 'CSN8_E', 'CSN9_E', 'CSN10_E', 'OPN1_E', 'OPN2_E', 'OPN3_E', 'OPN4_E', 'OPN5_E', 'OPN6_E', 'OPN7_E', 'OPN8_E', 'OPN9_E', 'OPN10_E', 'dateload', 'screenw', 'screenh', 'introelapse', 'testelapse', 'endelapse', 'IPC', 'country', 'lat_appx_lots_of_err', 'long_appx_lots_of_err']\n"
     ]
    }
   ],
   "source": [
    "dataset = pd.read_csv(\"dataset/data-final.csv\", sep='\\t')\n",
    "print(list(dataset.columns))"
   ]
  },
  {
   "cell_type": "markdown",
   "metadata": {},
   "source": [
    "## Clean the data"
   ]
  },
  {
   "cell_type": "code",
   "execution_count": 3,
   "metadata": {},
   "outputs": [],
   "source": [
    "col_times = filter(lambda x: x.find(\"_E\") != -1, list(dataset.columns))\n",
    "dataset_clean = dataset.drop(col_times, axis=1)\n",
    "dataset_clean = dataset_clean.drop([\"screenw\", \"screenh\", \"testelapse\", \"endelapse\", \"IPC\", \"lat_appx_lots_of_err\", \"long_appx_lots_of_err\"], axis=1)\n",
    "dataset_clean = dataset_clean.drop([\"dateload\", \"introelapse\"], axis=1)\n",
    "\n",
    "# Take subsample for faster calculations\n",
    "dataset_clean = dataset_clean.sample(n=1_000_000)"
   ]
  },
  {
   "cell_type": "markdown",
   "metadata": {},
   "source": [
    "# Group low-represented countries"
   ]
  },
  {
   "cell_type": "code",
   "execution_count": 16,
   "metadata": {},
   "outputs": [],
   "source": [
    "counts = dataset_clean['country'].value_counts().to_dict()\n",
    "\n",
    "def group_low_pop(x):\n",
    "    if pd.isna(x):\n",
    "        return None\n",
    "    \n",
    "    return x if (counts[x] > 1_000) and (x != \"NONE\") else \"OTHER\"\n",
    "\n",
    "dataset_clean['country'] = dataset_clean['country'].apply(group_low_pop)"
   ]
  },
  {
   "cell_type": "markdown",
   "metadata": {},
   "source": [
    "### Number of unique countries"
   ]
  },
  {
   "cell_type": "code",
   "execution_count": 22,
   "metadata": {},
   "outputs": [
    {
     "data": {
      "text/plain": [
       "US       0.538186\n",
       "GB       0.065627\n",
       "CA       0.060953\n",
       "AU       0.049250\n",
       "OTHER    0.037799\n",
       "PH       0.019539\n",
       "IN       0.017239\n",
       "DE       0.013876\n",
       "NZ       0.012794\n",
       "NO       0.011240\n",
       "MY       0.011183\n",
       "MX       0.010973\n",
       "SE       0.010345\n",
       "NL       0.009615\n",
       "SG       0.007562\n",
       "ID       0.006390\n",
       "BR       0.006147\n",
       "FR       0.006064\n",
       "DK       0.005440\n",
       "IE       0.005339\n",
       "IT       0.005238\n",
       "ES       0.004919\n",
       "PL       0.004580\n",
       "FI       0.004286\n",
       "RO       0.003795\n",
       "BE       0.003764\n",
       "ZA       0.003696\n",
       "CO       0.003566\n",
       "HK       0.003536\n",
       "PK       0.003463\n",
       "RU       0.003281\n",
       "AR       0.003114\n",
       "CH       0.003072\n",
       "AE       0.003014\n",
       "TR       0.002839\n",
       "GR       0.002478\n",
       "PT       0.002476\n",
       "VN       0.002312\n",
       "HR       0.002207\n",
       "AT       0.002187\n",
       "CL       0.002163\n",
       "RS       0.002033\n",
       "CZ       0.001983\n",
       "TH       0.001929\n",
       "JP       0.001887\n",
       "PE       0.001638\n",
       "KR       0.001561\n",
       "HU       0.001487\n",
       "IL       0.001410\n",
       "KE       0.001385\n",
       "CN       0.001314\n",
       "BG       0.001250\n",
       "VE       0.001241\n",
       "EC       0.001136\n",
       "LT       0.001084\n",
       "SA       0.001079\n",
       "EG       0.001025\n",
       "EE       0.001003\n",
       "Name: country, dtype: float64"
      ]
     },
     "execution_count": 22,
     "metadata": {},
     "output_type": "execute_result"
    }
   ],
   "source": [
    "dataset_clean['country'].value_counts(True)"
   ]
  },
  {
   "cell_type": "markdown",
   "metadata": {},
   "source": [
    "## Priors"
   ]
  },
  {
   "cell_type": "code",
   "execution_count": null,
   "metadata": {},
   "outputs": [],
   "source": []
  }
 ],
 "metadata": {
  "kernelspec": {
   "display_name": "Python 3",
   "language": "python",
   "name": "python3"
  },
  "language_info": {
   "codemirror_mode": {
    "name": "ipython",
    "version": 3
   },
   "file_extension": ".py",
   "mimetype": "text/x-python",
   "name": "python",
   "nbconvert_exporter": "python",
   "pygments_lexer": "ipython3",
   "version": "3.7.5-final"
  }
 },
 "nbformat": 4,
 "nbformat_minor": 4
}