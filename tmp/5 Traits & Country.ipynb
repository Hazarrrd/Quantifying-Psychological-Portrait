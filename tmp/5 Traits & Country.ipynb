{
 "cells": [
  {
   "cell_type": "markdown",
   "metadata": {},
   "source": [
    "# 5 Traits Localized Model\n",
    "> In psychological trait theory, the Big Five personality traits, also known as the five-factor model (FFM) and the OCEAN model, is a suggested taxonomy, or grouping, for personality traits, developed from the 1980s onwards. When factor analysis (a statistical technique) is applied to personality survey data, some words used to describe aspects of personality are often applied to the same person. For example, someone described as conscientious is more likely to be described as \"always prepared\" rather than \"messy\". This theory is based therefore on semantic associations between words and not on neuropsychological experiments. This theory uses descriptors of common language and suggests five broad dimensions commonly used to describe the human personality and psyche.\n",
    "The theory identifies five factors:\n",
    "> - openness to experience (inventive/curious vs. consistent/cautious)\n",
    "> - conscientiousness (efficient/organized vs. easy-going/careless)\n",
    "> - extroversion (outgoing/energetic vs. solitary/reserved)\n",
    "> - agreeableness (friendly/compassionate vs. challenging/detached)\n",
    "> - neuroticism (sensitive/nervous vs. secure/confident)\n",
    "\n",
    "[Big Five personality traits](https://en.wikipedia.org/wiki/Big_Five_personality_traits)\n",
    "\n",
    "The questionare consists of 50 statements, on which person is asked to anwser (on 1 to 5 scale), how much ge agrees on the statement. The statements are divided into 5 groups assosited with the traits. On top of that, we have informations about the place, where survey took place. \n"
   ]
  },
  {
   "cell_type": "markdown",
   "metadata": {},
   "source": [
    "# Simple bayesian interpretation\n",
    "![](images/5_traits_model_localized.svg)\n",
    "\n",
    "In the Big 5 Peronality traits model, we assume that, that user personality can be described by 5 dimensional, orthogonal vector, where each dimension is orthogonal to each other (at least in respect to quiz questions). \n",
    "\n",
    "## Distributions\n",
    "Each trait will be modeled as a Beta distribution, with \\\\(\\alpha\\\\) and \\\\(\\beta\\\\) conditioned on country. ie:\n",
    "\\begin{equation}\n",
    "Openness \\sim Beta(\\alpha=\\alpha_{openness}, \\beta = \\beta_{openness})\n",
    "\\end{equation}\n",
    "\n",
    "At last, we assume that each statement agreement comes from a binomial dristribution, where n=4, and p=Trait, eg.\n",
    "\n",
    "\\begin{equation}\n",
    "OPN_i^* \\sim Binomial(n=4, p=Openness_c) + 1\n",
    "\\end{equation}\n",
    "\n",
    "We do it for every question, for every sample. This way, we can interpret trait as measure of likelihood, that someone would agree with the statement (ie. we transform a 5-scale problem into binary problem, so that the trait can be interpreted as probability of someone agreeing with the question. The +1 comes from the fact, that opinions range from 1 - 5, rather that 0 - 4. The star in the notation means a standarized anwser. Some statements are reverse (ie. I don't like people in extraversion trait). By standarized statement we mean, that for such cases we flip the question into agreeing form (I like people) and change the anwser as following\n",
    "\\begin{equation}\n",
    "OPN_i^* = 6 - OPN_i\n",
    "\\end{equation}"
   ]
  },
  {
   "cell_type": "code",
   "execution_count": 82,
   "metadata": {},
   "outputs": [],
   "source": [
    "import torch\n",
    "import pyro\n",
    "import pyro.distributions as dist\n",
    "from common import N_COUNTIRES, load_joint, empty_df, positive_correlation, QUESTIONS\n",
    "from sklearn.preprocessing import OrdinalEncoder\n",
    "import torch.distributions.constraints as const\n",
    "import pyro.poutine as poutine\n",
    "import matplotlib.pyplot as plt\n",
    "from tqdm import tqdm\n",
    "import numpy as np\n",
    "import seaborn as sns\n",
    "import pandas as pd\n",
    "from IPython.display import display"
   ]
  },
  {
   "cell_type": "markdown",
   "metadata": {},
   "source": [
    "## Model definition"
   ]
  },
  {
   "cell_type": "code",
   "execution_count": 254,
   "metadata": {},
   "outputs": [],
   "source": [
    "class BigFiveModel:\n",
    "    # Parameters of prior trait distributions\n",
    "    ALPHA_PRIOR = 1.0\n",
    "    BETA_PRIOR = 1.0\n",
    "    \n",
    "    def __init__(self):           \n",
    "        initial_obs = {\n",
    "            **{\n",
    "                key: []\n",
    "                for key in QUESTIONS.keys()\n",
    "            },\n",
    "            'country': []\n",
    "        }\n",
    "\n",
    "        self._observations = pd.DataFrame(initial_obs)\n",
    "        self._mask = np.zeros((0, 51))\n",
    "        \n",
    "        self.fitted = False\n",
    "        \n",
    "        \n",
    "    def _add_user(self, user: str):\n",
    "        initial_obs = {\n",
    "            **{\n",
    "                key: 0\n",
    "                for key in QUESTIONS.keys()\n",
    "            },\n",
    "            'country': 0\n",
    "        }\n",
    "        \n",
    "        self._observations = pd.concat([\n",
    "            self._observations, \n",
    "            pd.DataFrame(initial_obs, index=[user])\n",
    "        ])\n",
    "        self._mask = np.concatenate([\n",
    "            self._mask,\n",
    "            np.zeros((1, 51))\n",
    "        ])\n",
    "        \n",
    "    \n",
    "    def model(self, anwsers, countries, anwser_mask = None, country_mask = None):                 \n",
    "        n_samples = anwsers.shape[-1]\n",
    "        \n",
    "        trait_alpha_priors = pyro.param('trait_alpha_priors', self.ALPHA_PRIOR * torch.ones(5, N_COUNTIRES), constraint=const.positive)\n",
    "        trait_beta_priors = pyro.param('trait_beta_priors', self.BETA_PRIOR * torch.ones(5, N_COUNTIRES), constraint=const.positive)\n",
    "\n",
    "        # Don't fit priors in inference stage\n",
    "        if self.fitted:\n",
    "            trait_alpha_priors = torch.tensor(self.prior_alphas)\n",
    "            trait_beta_priors = torch.tensor(self.prior_betas)\n",
    "        \n",
    "        with pyro.plate(\"person\", n_samples):\n",
    "            country = countries\n",
    "            if country_mask is not None:\n",
    "                # Make prior a non-trainable uniform\n",
    "                country = pyro.sample('country', dist.Categorical(torch.ones(N_COUNTIRES)).mask(country_mask))\n",
    "\n",
    "                # Overwire countires that are observed\n",
    "                country = countries * country_mask + (country * (1.0 - country_mask))\n",
    "                            \n",
    "            with pyro.plate('traits', 5):\n",
    "                # Prior on traits will depend on country. This way we can use country to reinforce our predictions with better prior,\n",
    "                # which is not biased by imbalanced country\n",
    "                trait = pyro.sample('trait', dist.Beta(trait_alpha_priors[:, country.long()], trait_beta_priors[:, country.long()]))\n",
    "\n",
    "                with pyro.plate(\"question\", 10):\n",
    "                    # assume uniform\n",
    "                    distribution = dist.Binomial(4, trait)\n",
    "                    if anwser_mask != None:\n",
    "                        distribution = distribution.mask(anwser_mask)\n",
    "                    \n",
    "                    anwser = pyro.sample('anwser', distribution, obs=anwsers)\n",
    "\n",
    "                    return anwser, trait\n",
    "                               \n",
    "    \n",
    "    def train_guide(self, anwsers, countries, anwser_mask = None, country_mask = None):   \n",
    "        n_samples = anwsers.shape[-1]\n",
    "                \n",
    "        # Not reeeeeeeeeaaaaaaaaally important, but hey - its a guide and posterior must fit :)\n",
    "        trait_alphas = pyro.param('trait_alphas_train', self.ALPHA_PRIOR * torch.ones(5, n_samples), constraint=const.positive)\n",
    "        trait_betas = pyro.param('trait_betas_train', self.BETA_PRIOR * torch.ones(5, n_samples), constraint=const.positive)\n",
    "        \n",
    "        with pyro.plate(\"person\", n_samples):\n",
    "            with pyro.plate('traits', 5):\n",
    "                trait = pyro.sample('trait', dist.Beta(trait_alphas, trait_betas))\n",
    "                    \n",
    "                \n",
    "    def infer_guide(self, anwsers, countries, anwser_mask = None, country_mask = None):  \n",
    "        n_samples = anwsers.shape[-1]\n",
    "        \n",
    "        countries_probs = pyro.param('country_probs', torch.ones(N_COUNTIRES) / N_COUNTIRES, constraint = const.simplex)\n",
    "\n",
    "        with pyro.plate(\"person\", len(self._observations)):\n",
    "            \n",
    "            # Make prior a non-trainable uniform\n",
    "            country = pyro.sample('country', dist.Categorical(logits=torch.log(countries_probs)).mask(country_mask))\n",
    "\n",
    "            # Overwire countires that are observed\n",
    "            country = countries * country_mask + (country * (1.0 - country_mask))\n",
    "            \n",
    "            with pyro.plate('traits', 5):\n",
    "                trait_alphas = pyro.param('trait_alphas', self.ALPHA_PRIOR * torch.ones(5, N_COUNTIRES))\n",
    "                trait_betas = pyro.param('trait_betas', self.BETA_PRIOR * torch.ones(5, N_COUNTIRES))\n",
    "\n",
    "                trait = pyro.sample('trait', dist.Beta(trait_alphas[:, country.long()], trait_betas[:, country.long()]))   \n",
    "\n",
    "                \n",
    "    def observe(self, user: str, x: dict) -> None:        \n",
    "        if user not in self._observations.index:\n",
    "            self._add_user(user)\n",
    "        \n",
    "        for key, value in x.items():\n",
    "            if key != 'country':\n",
    "                # Filp value if it has negative corelation \n",
    "                if not positive_correlation(key):\n",
    "                    value = 6 - value\n",
    "                \n",
    "                # We map values 1 - 5 into 0 - 4\n",
    "                self._observations.loc[user, key] = np.clip(value - 1.0, 0, 4)\n",
    "                self._mask[\n",
    "                    self._observations.index.get_loc(user),\n",
    "                    self._observations.columns.get_loc(key)\n",
    "                ] = 1\n",
    "            else:\n",
    "                self._observations.loc[user, key] = value\n",
    "                \n",
    "    \n",
    "    def fit_prior(self, data, num_steps = 5_000):            \n",
    "        pyro.clear_param_store()\n",
    "        pyro.enable_validation(True)\n",
    "        svi = pyro.infer.SVI(model=self.model,\n",
    "                             guide=self.train_guide,\n",
    "                             optim=pyro.optim.Adam({\"lr\": 1e-2}),\n",
    "                             loss=pyro.infer.Trace_ELBO())\n",
    "\n",
    "        anwsers = torch.tensor(\n",
    "            np.clip(data.drop('country', axis=1).values.reshape(-1, 5, 10).transpose([2, 1, 0]) - 1.0, 0.0, 4.0)\n",
    "        )\n",
    "        \n",
    "        country = torch.tensor(\n",
    "            data['country'].values.reshape(-1)\n",
    "        )\n",
    "                \n",
    "        losses = []\n",
    "        for t in tqdm(range(num_steps)):\n",
    "            losses.append(svi.step(anwsers, country))\n",
    "            \n",
    "        # Freeze priors\n",
    "        self.fitted = True\n",
    "        self.prior_alphas = pyro.param('trait_alpha_priors').detach().numpy()\n",
    "        self.prior_betas = pyro.param('trait_beta_priors').detach().numpy()\n",
    "        \n",
    "\n",
    "        plt.plot(losses)\n",
    "        plt.title(\"ELBO\")\n",
    "        plt.xlabel(\"step\")\n",
    "        plt.ylabel(\"loss\")\n",
    "                \n",
    "                \n",
    "    def infer(self, num_steps = 1_000, lr=5e-2):\n",
    "        anwser_mask = torch.tensor(self._mask[:, :50].reshape(-1, 5, 10).transpose([2, 1, 0]))\n",
    "        country_mask = torch.tensor(self._mask[:, 50].reshape(-1))\n",
    "        \n",
    "        anwsers = torch.tensor(\n",
    "            self._observations.drop('country', axis=1).values.reshape(-1, 5, 10).transpose([2, 1, 0])\n",
    "        )\n",
    "        \n",
    "        country = torch.tensor(\n",
    "            self._observations['country'].values.reshape(-1)\n",
    "        )\n",
    "        \n",
    "        pyro.clear_param_store()\n",
    "        pyro.enable_validation(True)\n",
    "        svi = pyro.infer.SVI(model=self.model,\n",
    "                             guide=self.infer_guide,\n",
    "                             optim=pyro.optim.Adam({\"lr\": lr}),\n",
    "                             loss=pyro.infer.TraceGraph_ELBO())\n",
    "\n",
    "        losses = []\n",
    "        for t in tqdm(range(num_steps)):\n",
    "            losses.append(svi.step(anwsers, country, anwser_mask, country_mask))\n",
    "\n",
    "        plt.plot(losses)\n",
    "        plt.title(\"ELBO\")\n",
    "        plt.xlabel(\"step\")\n",
    "        plt.ylabel(\"loss\")\n",
    "        \n",
    "    def sample(self, n_samples):\n",
    "        return pyro.infer.Predictive(self.model, guide=self.traits_guide, num_samples=n_samples)()"
   ]
  },
  {
   "cell_type": "code",
   "execution_count": 265,
   "metadata": {},
   "outputs": [],
   "source": [
    "data_1 = load_joint().dropna(axis=0)"
   ]
  },
  {
   "cell_type": "code",
   "execution_count": 266,
   "metadata": {},
   "outputs": [],
   "source": [
    "contry_encoder = OrdinalEncoder()\n",
    "data_1['country'] = contry_encoder.fit_transform(data_1['country'].values.reshape(-1, 1))"
   ]
  },
  {
   "cell_type": "code",
   "execution_count": 260,
   "metadata": {},
   "outputs": [
    {
     "name": "stderr",
     "output_type": "stream",
     "text": [
      "100%|██████████| 5000/5000 [01:04<00:00, 77.77it/s]\n"
     ]
    },
    {
     "data": {
      "image/png": "[encoded data removed]",
      "text/plain": [
       "<Figure size 432x288 with 1 Axes>"
      ]
     },
     "metadata": {
      "needs_background": "light"
     },
     "output_type": "display_data"
    }
   ],
   "source": [
    "pyro.enable_validation(True)\n",
    "model = BigFiveModel()\n",
    "model.fit_prior(data_1)"
   ]
  },
  {
   "cell_type": "markdown",
   "metadata": {},
   "source": [
    "## Perform inference of latents for dataset colected via survey\n",
    "We (and our friends) did a Five Traits psychological test ourselves. Here we present infered distributions over latent variables for these anwsers to statements."
   ]
  },
  {
   "cell_type": "code",
   "execution_count": 261,
   "metadata": {},
   "outputs": [],
   "source": [
    "data = pd.read_csv(\"dataset/test_results.csv\")\n",
    "\n",
    "users = {}\n",
    "for _, row in data.iterrows():\n",
    "    name = row[1]\n",
    "    users[name] = {\n",
    "        key: row.values[2 + i]\n",
    "        for i, key in enumerate(QUESTIONS.keys())\n",
    "    }"
   ]
  },
  {
   "cell_type": "code",
   "execution_count": 264,
   "metadata": {},
   "outputs": [
    {
     "name": "stderr",
     "output_type": "stream",
     "text": [
      " 25%|██▌       | 507/2000 [00:02<00:07, 190.01it/s]\n"
     ]
    },
    {
     "ename": "KeyboardInterrupt",
     "evalue": "",
     "output_type": "error",
     "traceback": [
      "\u001b[0;31m---------------------------------------------------------------------------\u001b[0m",
      "\u001b[0;31mKeyboardInterrupt\u001b[0m                         Traceback (most recent call last)",
      "\u001b[0;32m<ipython-input-264-5536c196b26c>\u001b[0m in \u001b[0;36m<module>\u001b[0;34m\u001b[0m\n\u001b[1;32m      1\u001b[0m \u001b[0;32mfor\u001b[0m \u001b[0muser\u001b[0m\u001b[0;34m,\u001b[0m \u001b[0mobservations\u001b[0m \u001b[0;32min\u001b[0m \u001b[0musers\u001b[0m\u001b[0;34m.\u001b[0m\u001b[0mitems\u001b[0m\u001b[0;34m(\u001b[0m\u001b[0;34m)\u001b[0m\u001b[0;34m:\u001b[0m\u001b[0;34m\u001b[0m\u001b[0;34m\u001b[0m\u001b[0m\n\u001b[1;32m      2\u001b[0m     \u001b[0mmodel\u001b[0m\u001b[0;34m.\u001b[0m\u001b[0mobserve\u001b[0m\u001b[0;34m(\u001b[0m\u001b[0muser\u001b[0m\u001b[0;34m,\u001b[0m \u001b[0mobservations\u001b[0m\u001b[0;34m)\u001b[0m\u001b[0;34m\u001b[0m\u001b[0;34m\u001b[0m\u001b[0m\n\u001b[0;32m----> 3\u001b[0;31m \u001b[0mmodel\u001b[0m\u001b[0;34m.\u001b[0m\u001b[0minfer\u001b[0m\u001b[0;34m(\u001b[0m\u001b[0;36m2000\u001b[0m\u001b[0;34m)\u001b[0m\u001b[0;34m\u001b[0m\u001b[0;34m\u001b[0m\u001b[0m\n\u001b[0m",
      "\u001b[0;32m<ipython-input-254-ce67f2745757>\u001b[0m in \u001b[0;36minfer\u001b[0;34m(self, num_steps)\u001b[0m\n\u001b[1;32m    179\u001b[0m         \u001b[0mlosses\u001b[0m \u001b[0;34m=\u001b[0m \u001b[0;34m[\u001b[0m\u001b[0;34m]\u001b[0m\u001b[0;34m\u001b[0m\u001b[0;34m\u001b[0m\u001b[0m\n\u001b[1;32m    180\u001b[0m         \u001b[0;32mfor\u001b[0m \u001b[0mt\u001b[0m \u001b[0;32min\u001b[0m \u001b[0mtqdm\u001b[0m\u001b[0;34m(\u001b[0m\u001b[0mrange\u001b[0m\u001b[0;34m(\u001b[0m\u001b[0mnum_steps\u001b[0m\u001b[0;34m)\u001b[0m\u001b[0;34m)\u001b[0m\u001b[0;34m:\u001b[0m\u001b[0;34m\u001b[0m\u001b[0;34m\u001b[0m\u001b[0m\n\u001b[0;32m--> 181\u001b[0;31m             \u001b[0mlosses\u001b[0m\u001b[0;34m.\u001b[0m\u001b[0mappend\u001b[0m\u001b[0;34m(\u001b[0m\u001b[0msvi\u001b[0m\u001b[0;34m.\u001b[0m\u001b[0mstep\u001b[0m\u001b[0;34m(\u001b[0m\u001b[0manwsers\u001b[0m\u001b[0;34m,\u001b[0m \u001b[0mcountry\u001b[0m\u001b[0;34m,\u001b[0m \u001b[0manwser_mask\u001b[0m\u001b[0;34m,\u001b[0m \u001b[0mcountry_mask\u001b[0m\u001b[0;34m)\u001b[0m\u001b[0;34m)\u001b[0m\u001b[0;34m\u001b[0m\u001b[0;34m\u001b[0m\u001b[0m\n\u001b[0m\u001b[1;32m    182\u001b[0m \u001b[0;34m\u001b[0m\u001b[0m\n\u001b[1;32m    183\u001b[0m         \u001b[0mplt\u001b[0m\u001b[0;34m.\u001b[0m\u001b[0mplot\u001b[0m\u001b[0;34m(\u001b[0m\u001b[0mlosses\u001b[0m\u001b[0;34m)\u001b[0m\u001b[0;34m\u001b[0m\u001b[0;34m\u001b[0m\u001b[0m\n",
      "\u001b[0;32m~/projekty/puma/venv/lib/python3.7/site-packages/pyro/infer/svi.py\u001b[0m in \u001b[0;36mstep\u001b[0;34m(self, *args, **kwargs)\u001b[0m\n\u001b[1;32m    126\u001b[0m         \u001b[0;31m# get loss and compute gradients\u001b[0m\u001b[0;34m\u001b[0m\u001b[0;34m\u001b[0m\u001b[0;34m\u001b[0m\u001b[0m\n\u001b[1;32m    127\u001b[0m         \u001b[0;32mwith\u001b[0m \u001b[0mpoutine\u001b[0m\u001b[0;34m.\u001b[0m\u001b[0mtrace\u001b[0m\u001b[0;34m(\u001b[0m\u001b[0mparam_only\u001b[0m\u001b[0;34m=\u001b[0m\u001b[0;32mTrue\u001b[0m\u001b[0;34m)\u001b[0m \u001b[0;32mas\u001b[0m \u001b[0mparam_capture\u001b[0m\u001b[0;34m:\u001b[0m\u001b[0;34m\u001b[0m\u001b[0;34m\u001b[0m\u001b[0m\n\u001b[0;32m--> 128\u001b[0;31m             \u001b[0mloss\u001b[0m \u001b[0;34m=\u001b[0m \u001b[0mself\u001b[0m\u001b[0;34m.\u001b[0m\u001b[0mloss_and_grads\u001b[0m\u001b[0;34m(\u001b[0m\u001b[0mself\u001b[0m\u001b[0;34m.\u001b[0m\u001b[0mmodel\u001b[0m\u001b[0;34m,\u001b[0m \u001b[0mself\u001b[0m\u001b[0;34m.\u001b[0m\u001b[0mguide\u001b[0m\u001b[0;34m,\u001b[0m \u001b[0;34m*\u001b[0m\u001b[0margs\u001b[0m\u001b[0;34m,\u001b[0m \u001b[0;34m**\u001b[0m\u001b[0mkwargs\u001b[0m\u001b[0;34m)\u001b[0m\u001b[0;34m\u001b[0m\u001b[0;34m\u001b[0m\u001b[0m\n\u001b[0m\u001b[1;32m    129\u001b[0m \u001b[0;34m\u001b[0m\u001b[0m\n\u001b[1;32m    130\u001b[0m         params = set(site[\"value\"].unconstrained()\n",
      "\u001b[0;32m~/projekty/puma/venv/lib/python3.7/site-packages/pyro/infer/tracegraph_elbo.py\u001b[0m in \u001b[0;36mloss_and_grads\u001b[0;34m(self, model, guide, *args, **kwargs)\u001b[0m\n\u001b[1;32m    253\u001b[0m         \u001b[0mIf\u001b[0m \u001b[0mbaselines\u001b[0m \u001b[0mare\u001b[0m \u001b[0mpresent\u001b[0m\u001b[0;34m,\u001b[0m \u001b[0ma\u001b[0m \u001b[0mbaseline\u001b[0m \u001b[0mloss\u001b[0m \u001b[0;32mis\u001b[0m \u001b[0malso\u001b[0m \u001b[0mconstructed\u001b[0m \u001b[0;32mand\u001b[0m \u001b[0mdifferentiated\u001b[0m\u001b[0;34m.\u001b[0m\u001b[0;34m\u001b[0m\u001b[0;34m\u001b[0m\u001b[0m\n\u001b[1;32m    254\u001b[0m         \"\"\"\n\u001b[0;32m--> 255\u001b[0;31m         \u001b[0melbo\u001b[0m\u001b[0;34m,\u001b[0m \u001b[0msurrogate_loss\u001b[0m \u001b[0;34m=\u001b[0m \u001b[0mself\u001b[0m\u001b[0;34m.\u001b[0m\u001b[0m_loss_and_surrogate_loss\u001b[0m\u001b[0;34m(\u001b[0m\u001b[0mmodel\u001b[0m\u001b[0;34m,\u001b[0m \u001b[0mguide\u001b[0m\u001b[0;34m,\u001b[0m \u001b[0margs\u001b[0m\u001b[0;34m,\u001b[0m \u001b[0mkwargs\u001b[0m\u001b[0;34m)\u001b[0m\u001b[0;34m\u001b[0m\u001b[0;34m\u001b[0m\u001b[0m\n\u001b[0m\u001b[1;32m    256\u001b[0m \u001b[0;34m\u001b[0m\u001b[0m\n\u001b[1;32m    257\u001b[0m         \u001b[0mtorch_backward\u001b[0m\u001b[0;34m(\u001b[0m\u001b[0msurrogate_loss\u001b[0m\u001b[0;34m,\u001b[0m \u001b[0mretain_graph\u001b[0m\u001b[0;34m=\u001b[0m\u001b[0mself\u001b[0m\u001b[0;34m.\u001b[0m\u001b[0mretain_graph\u001b[0m\u001b[0;34m)\u001b[0m\u001b[0;34m\u001b[0m\u001b[0;34m\u001b[0m\u001b[0m\n",
      "\u001b[0;32m~/projekty/puma/venv/lib/python3.7/site-packages/pyro/infer/tracegraph_elbo.py\u001b[0m in \u001b[0;36m_loss_and_surrogate_loss\u001b[0;34m(self, model, guide, args, kwargs)\u001b[0m\n\u001b[1;32m    267\u001b[0m         \u001b[0msurrogate_loss\u001b[0m \u001b[0;34m=\u001b[0m \u001b[0;36m0.0\u001b[0m\u001b[0;34m\u001b[0m\u001b[0;34m\u001b[0m\u001b[0m\n\u001b[1;32m    268\u001b[0m \u001b[0;34m\u001b[0m\u001b[0m\n\u001b[0;32m--> 269\u001b[0;31m         \u001b[0;32mfor\u001b[0m \u001b[0mmodel_trace\u001b[0m\u001b[0;34m,\u001b[0m \u001b[0mguide_trace\u001b[0m \u001b[0;32min\u001b[0m \u001b[0mself\u001b[0m\u001b[0;34m.\u001b[0m\u001b[0m_get_traces\u001b[0m\u001b[0;34m(\u001b[0m\u001b[0mmodel\u001b[0m\u001b[0;34m,\u001b[0m \u001b[0mguide\u001b[0m\u001b[0;34m,\u001b[0m \u001b[0margs\u001b[0m\u001b[0;34m,\u001b[0m \u001b[0mkwargs\u001b[0m\u001b[0;34m)\u001b[0m\u001b[0;34m:\u001b[0m\u001b[0;34m\u001b[0m\u001b[0;34m\u001b[0m\u001b[0m\n\u001b[0m\u001b[1;32m    270\u001b[0m \u001b[0;34m\u001b[0m\u001b[0m\n\u001b[1;32m    271\u001b[0m             \u001b[0mlp\u001b[0m\u001b[0;34m,\u001b[0m \u001b[0mslp\u001b[0m \u001b[0;34m=\u001b[0m \u001b[0mself\u001b[0m\u001b[0;34m.\u001b[0m\u001b[0m_loss_and_surrogate_loss_particle\u001b[0m\u001b[0;34m(\u001b[0m\u001b[0mmodel_trace\u001b[0m\u001b[0;34m,\u001b[0m \u001b[0mguide_trace\u001b[0m\u001b[0;34m)\u001b[0m\u001b[0;34m\u001b[0m\u001b[0;34m\u001b[0m\u001b[0m\n",
      "\u001b[0;32m~/projekty/puma/venv/lib/python3.7/site-packages/pyro/infer/elbo.py\u001b[0m in \u001b[0;36m_get_traces\u001b[0;34m(self, model, guide, args, kwargs)\u001b[0m\n\u001b[1;32m    168\u001b[0m         \u001b[0;32melse\u001b[0m\u001b[0;34m:\u001b[0m\u001b[0;34m\u001b[0m\u001b[0;34m\u001b[0m\u001b[0m\n\u001b[1;32m    169\u001b[0m             \u001b[0;32mfor\u001b[0m \u001b[0mi\u001b[0m \u001b[0;32min\u001b[0m \u001b[0mrange\u001b[0m\u001b[0;34m(\u001b[0m\u001b[0mself\u001b[0m\u001b[0;34m.\u001b[0m\u001b[0mnum_particles\u001b[0m\u001b[0;34m)\u001b[0m\u001b[0;34m:\u001b[0m\u001b[0;34m\u001b[0m\u001b[0;34m\u001b[0m\u001b[0m\n\u001b[0;32m--> 170\u001b[0;31m                 \u001b[0;32myield\u001b[0m \u001b[0mself\u001b[0m\u001b[0;34m.\u001b[0m\u001b[0m_get_trace\u001b[0m\u001b[0;34m(\u001b[0m\u001b[0mmodel\u001b[0m\u001b[0;34m,\u001b[0m \u001b[0mguide\u001b[0m\u001b[0;34m,\u001b[0m \u001b[0margs\u001b[0m\u001b[0;34m,\u001b[0m \u001b[0mkwargs\u001b[0m\u001b[0;34m)\u001b[0m\u001b[0;34m\u001b[0m\u001b[0;34m\u001b[0m\u001b[0m\n\u001b[0m",
      "\u001b[0;32m~/projekty/puma/venv/lib/python3.7/site-packages/pyro/infer/tracegraph_elbo.py\u001b[0m in \u001b[0;36m_get_trace\u001b[0;34m(self, model, guide, args, kwargs)\u001b[0m\n\u001b[1;32m    223\u001b[0m         \"\"\"\n\u001b[1;32m    224\u001b[0m         model_trace, guide_trace = get_importance_trace(\n\u001b[0;32m--> 225\u001b[0;31m             \"dense\", self.max_plate_nesting, model, guide, args, kwargs)\n\u001b[0m\u001b[1;32m    226\u001b[0m         \u001b[0;32mif\u001b[0m \u001b[0mis_validation_enabled\u001b[0m\u001b[0;34m(\u001b[0m\u001b[0;34m)\u001b[0m\u001b[0;34m:\u001b[0m\u001b[0;34m\u001b[0m\u001b[0;34m\u001b[0m\u001b[0m\n\u001b[1;32m    227\u001b[0m             \u001b[0mcheck_if_enumerated\u001b[0m\u001b[0;34m(\u001b[0m\u001b[0mguide_trace\u001b[0m\u001b[0;34m)\u001b[0m\u001b[0;34m\u001b[0m\u001b[0;34m\u001b[0m\u001b[0m\n",
      "\u001b[0;32m~/projekty/puma/venv/lib/python3.7/site-packages/pyro/infer/enum.py\u001b[0m in \u001b[0;36mget_importance_trace\u001b[0;34m(graph_type, max_plate_nesting, model, guide, args, kwargs, detach)\u001b[0m\n\u001b[1;32m     46\u001b[0m         \u001b[0mguide_trace\u001b[0m\u001b[0;34m.\u001b[0m\u001b[0mdetach_\u001b[0m\u001b[0;34m(\u001b[0m\u001b[0;34m)\u001b[0m\u001b[0;34m\u001b[0m\u001b[0;34m\u001b[0m\u001b[0m\n\u001b[1;32m     47\u001b[0m     model_trace = poutine.trace(poutine.replay(model, trace=guide_trace),\n\u001b[0;32m---> 48\u001b[0;31m                                 graph_type=graph_type).get_trace(*args, **kwargs)\n\u001b[0m\u001b[1;32m     49\u001b[0m     \u001b[0;32mif\u001b[0m \u001b[0mis_validation_enabled\u001b[0m\u001b[0;34m(\u001b[0m\u001b[0;34m)\u001b[0m\u001b[0;34m:\u001b[0m\u001b[0;34m\u001b[0m\u001b[0;34m\u001b[0m\u001b[0m\n\u001b[1;32m     50\u001b[0m         \u001b[0mcheck_model_guide_match\u001b[0m\u001b[0;34m(\u001b[0m\u001b[0mmodel_trace\u001b[0m\u001b[0;34m,\u001b[0m \u001b[0mguide_trace\u001b[0m\u001b[0;34m,\u001b[0m \u001b[0mmax_plate_nesting\u001b[0m\u001b[0;34m)\u001b[0m\u001b[0;34m\u001b[0m\u001b[0;34m\u001b[0m\u001b[0m\n",
      "\u001b[0;32m~/projekty/puma/venv/lib/python3.7/site-packages/pyro/poutine/trace_messenger.py\u001b[0m in \u001b[0;36mget_trace\u001b[0;34m(self, *args, **kwargs)\u001b[0m\n\u001b[1;32m    183\u001b[0m         \u001b[0mCalls\u001b[0m \u001b[0mthis\u001b[0m \u001b[0mpoutine\u001b[0m \u001b[0;32mand\u001b[0m \u001b[0mreturns\u001b[0m \u001b[0mits\u001b[0m \u001b[0mtrace\u001b[0m \u001b[0minstead\u001b[0m \u001b[0mof\u001b[0m \u001b[0mthe\u001b[0m \u001b[0mfunction\u001b[0m\u001b[0;31m'\u001b[0m\u001b[0ms\u001b[0m \u001b[0;32mreturn\u001b[0m \u001b[0mvalue\u001b[0m\u001b[0;34m.\u001b[0m\u001b[0;34m\u001b[0m\u001b[0;34m\u001b[0m\u001b[0m\n\u001b[1;32m    184\u001b[0m         \"\"\"\n\u001b[0;32m--> 185\u001b[0;31m         \u001b[0mself\u001b[0m\u001b[0;34m(\u001b[0m\u001b[0;34m*\u001b[0m\u001b[0margs\u001b[0m\u001b[0;34m,\u001b[0m \u001b[0;34m**\u001b[0m\u001b[0mkwargs\u001b[0m\u001b[0;34m)\u001b[0m\u001b[0;34m\u001b[0m\u001b[0;34m\u001b[0m\u001b[0m\n\u001b[0m\u001b[1;32m    186\u001b[0m         \u001b[0;32mreturn\u001b[0m \u001b[0mself\u001b[0m\u001b[0;34m.\u001b[0m\u001b[0mmsngr\u001b[0m\u001b[0;34m.\u001b[0m\u001b[0mget_trace\u001b[0m\u001b[0;34m(\u001b[0m\u001b[0;34m)\u001b[0m\u001b[0;34m\u001b[0m\u001b[0;34m\u001b[0m\u001b[0m\n",
      "\u001b[0;32m~/projekty/puma/venv/lib/python3.7/site-packages/pyro/poutine/trace_messenger.py\u001b[0m in \u001b[0;36m__call__\u001b[0;34m(self, *args, **kwargs)\u001b[0m\n\u001b[1;32m    163\u001b[0m                                       args=args, kwargs=kwargs)\n\u001b[1;32m    164\u001b[0m             \u001b[0;32mtry\u001b[0m\u001b[0;34m:\u001b[0m\u001b[0;34m\u001b[0m\u001b[0;34m\u001b[0m\u001b[0m\n\u001b[0;32m--> 165\u001b[0;31m                 \u001b[0mret\u001b[0m \u001b[0;34m=\u001b[0m \u001b[0mself\u001b[0m\u001b[0;34m.\u001b[0m\u001b[0mfn\u001b[0m\u001b[0;34m(\u001b[0m\u001b[0;34m*\u001b[0m\u001b[0margs\u001b[0m\u001b[0;34m,\u001b[0m \u001b[0;34m**\u001b[0m\u001b[0mkwargs\u001b[0m\u001b[0;34m)\u001b[0m\u001b[0;34m\u001b[0m\u001b[0;34m\u001b[0m\u001b[0m\n\u001b[0m\u001b[1;32m    166\u001b[0m             \u001b[0;32mexcept\u001b[0m \u001b[0;34m(\u001b[0m\u001b[0mValueError\u001b[0m\u001b[0;34m,\u001b[0m \u001b[0mRuntimeError\u001b[0m\u001b[0;34m)\u001b[0m\u001b[0;34m:\u001b[0m\u001b[0;34m\u001b[0m\u001b[0;34m\u001b[0m\u001b[0m\n\u001b[1;32m    167\u001b[0m                 \u001b[0mexc_type\u001b[0m\u001b[0;34m,\u001b[0m \u001b[0mexc_value\u001b[0m\u001b[0;34m,\u001b[0m \u001b[0mtraceback\u001b[0m \u001b[0;34m=\u001b[0m \u001b[0msys\u001b[0m\u001b[0;34m.\u001b[0m\u001b[0mexc_info\u001b[0m\u001b[0;34m(\u001b[0m\u001b[0;34m)\u001b[0m\u001b[0;34m\u001b[0m\u001b[0;34m\u001b[0m\u001b[0m\n",
      "\u001b[0;32m~/projekty/puma/venv/lib/python3.7/site-packages/pyro/poutine/messenger.py\u001b[0m in \u001b[0;36m_context_wrap\u001b[0;34m(context, fn, *args, **kwargs)\u001b[0m\n\u001b[1;32m      9\u001b[0m \u001b[0;32mdef\u001b[0m \u001b[0m_context_wrap\u001b[0m\u001b[0;34m(\u001b[0m\u001b[0mcontext\u001b[0m\u001b[0;34m,\u001b[0m \u001b[0mfn\u001b[0m\u001b[0;34m,\u001b[0m \u001b[0;34m*\u001b[0m\u001b[0margs\u001b[0m\u001b[0;34m,\u001b[0m \u001b[0;34m**\u001b[0m\u001b[0mkwargs\u001b[0m\u001b[0;34m)\u001b[0m\u001b[0;34m:\u001b[0m\u001b[0;34m\u001b[0m\u001b[0;34m\u001b[0m\u001b[0m\n\u001b[1;32m     10\u001b[0m     \u001b[0;32mwith\u001b[0m \u001b[0mcontext\u001b[0m\u001b[0;34m:\u001b[0m\u001b[0;34m\u001b[0m\u001b[0;34m\u001b[0m\u001b[0m\n\u001b[0;32m---> 11\u001b[0;31m         \u001b[0;32mreturn\u001b[0m \u001b[0mfn\u001b[0m\u001b[0;34m(\u001b[0m\u001b[0;34m*\u001b[0m\u001b[0margs\u001b[0m\u001b[0;34m,\u001b[0m \u001b[0;34m**\u001b[0m\u001b[0mkwargs\u001b[0m\u001b[0;34m)\u001b[0m\u001b[0;34m\u001b[0m\u001b[0;34m\u001b[0m\u001b[0m\n\u001b[0m\u001b[1;32m     12\u001b[0m \u001b[0;34m\u001b[0m\u001b[0m\n\u001b[1;32m     13\u001b[0m \u001b[0;34m\u001b[0m\u001b[0m\n",
      "\u001b[0;32m<ipython-input-254-ce67f2745757>\u001b[0m in \u001b[0;36mmodel\u001b[0;34m(self, anwsers, countries, anwser_mask, country_mask)\u001b[0m\n\u001b[1;32m     61\u001b[0m                 \u001b[0;31m# Prior on traits will depend on country. This way we can use country to reinforce our predictions with better prior,\u001b[0m\u001b[0;34m\u001b[0m\u001b[0;34m\u001b[0m\u001b[0;34m\u001b[0m\u001b[0m\n\u001b[1;32m     62\u001b[0m                 \u001b[0;31m# which is not biased by imbalanced country\u001b[0m\u001b[0;34m\u001b[0m\u001b[0;34m\u001b[0m\u001b[0;34m\u001b[0m\u001b[0m\n\u001b[0;32m---> 63\u001b[0;31m                 \u001b[0mtrait\u001b[0m \u001b[0;34m=\u001b[0m \u001b[0mpyro\u001b[0m\u001b[0;34m.\u001b[0m\u001b[0msample\u001b[0m\u001b[0;34m(\u001b[0m\u001b[0;34m'trait'\u001b[0m\u001b[0;34m,\u001b[0m \u001b[0mdist\u001b[0m\u001b[0;34m.\u001b[0m\u001b[0mBeta\u001b[0m\u001b[0;34m(\u001b[0m\u001b[0mtrait_alpha_priors\u001b[0m\u001b[0;34m[\u001b[0m\u001b[0;34m:\u001b[0m\u001b[0;34m,\u001b[0m \u001b[0mcountry\u001b[0m\u001b[0;34m.\u001b[0m\u001b[0mlong\u001b[0m\u001b[0;34m(\u001b[0m\u001b[0;34m)\u001b[0m\u001b[0;34m]\u001b[0m\u001b[0;34m,\u001b[0m \u001b[0mtrait_beta_priors\u001b[0m\u001b[0;34m[\u001b[0m\u001b[0;34m:\u001b[0m\u001b[0;34m,\u001b[0m \u001b[0mcountry\u001b[0m\u001b[0;34m.\u001b[0m\u001b[0mlong\u001b[0m\u001b[0;34m(\u001b[0m\u001b[0;34m)\u001b[0m\u001b[0;34m]\u001b[0m\u001b[0;34m)\u001b[0m\u001b[0;34m)\u001b[0m\u001b[0;34m\u001b[0m\u001b[0;34m\u001b[0m\u001b[0m\n\u001b[0m\u001b[1;32m     64\u001b[0m \u001b[0;34m\u001b[0m\u001b[0m\n\u001b[1;32m     65\u001b[0m                 \u001b[0;32mwith\u001b[0m \u001b[0mpyro\u001b[0m\u001b[0;34m.\u001b[0m\u001b[0mplate\u001b[0m\u001b[0;34m(\u001b[0m\u001b[0;34m\"question\"\u001b[0m\u001b[0;34m,\u001b[0m \u001b[0;36m10\u001b[0m\u001b[0;34m)\u001b[0m\u001b[0;34m:\u001b[0m\u001b[0;34m\u001b[0m\u001b[0;34m\u001b[0m\u001b[0m\n",
      "\u001b[0;32m~/projekty/puma/venv/lib/python3.7/site-packages/torch/distributions/beta.py\u001b[0m in \u001b[0;36m__init__\u001b[0;34m(self, concentration1, concentration0, validate_args)\u001b[0m\n\u001b[1;32m     34\u001b[0m             \u001b[0mconcentration1\u001b[0m\u001b[0;34m,\u001b[0m \u001b[0mconcentration0\u001b[0m \u001b[0;34m=\u001b[0m \u001b[0mbroadcast_all\u001b[0m\u001b[0;34m(\u001b[0m\u001b[0mconcentration1\u001b[0m\u001b[0;34m,\u001b[0m \u001b[0mconcentration0\u001b[0m\u001b[0;34m)\u001b[0m\u001b[0;34m\u001b[0m\u001b[0;34m\u001b[0m\u001b[0m\n\u001b[1;32m     35\u001b[0m             \u001b[0mconcentration1_concentration0\u001b[0m \u001b[0;34m=\u001b[0m \u001b[0mtorch\u001b[0m\u001b[0;34m.\u001b[0m\u001b[0mstack\u001b[0m\u001b[0;34m(\u001b[0m\u001b[0;34m[\u001b[0m\u001b[0mconcentration1\u001b[0m\u001b[0;34m,\u001b[0m \u001b[0mconcentration0\u001b[0m\u001b[0;34m]\u001b[0m\u001b[0;34m,\u001b[0m \u001b[0;34m-\u001b[0m\u001b[0;36m1\u001b[0m\u001b[0;34m)\u001b[0m\u001b[0;34m\u001b[0m\u001b[0;34m\u001b[0m\u001b[0m\n\u001b[0;32m---> 36\u001b[0;31m         \u001b[0mself\u001b[0m\u001b[0;34m.\u001b[0m\u001b[0m_dirichlet\u001b[0m \u001b[0;34m=\u001b[0m \u001b[0mDirichlet\u001b[0m\u001b[0;34m(\u001b[0m\u001b[0mconcentration1_concentration0\u001b[0m\u001b[0;34m)\u001b[0m\u001b[0;34m\u001b[0m\u001b[0;34m\u001b[0m\u001b[0m\n\u001b[0m\u001b[1;32m     37\u001b[0m         \u001b[0msuper\u001b[0m\u001b[0;34m(\u001b[0m\u001b[0mBeta\u001b[0m\u001b[0;34m,\u001b[0m \u001b[0mself\u001b[0m\u001b[0;34m)\u001b[0m\u001b[0;34m.\u001b[0m\u001b[0m__init__\u001b[0m\u001b[0;34m(\u001b[0m\u001b[0mself\u001b[0m\u001b[0;34m.\u001b[0m\u001b[0m_dirichlet\u001b[0m\u001b[0;34m.\u001b[0m\u001b[0m_batch_shape\u001b[0m\u001b[0;34m,\u001b[0m \u001b[0mvalidate_args\u001b[0m\u001b[0;34m=\u001b[0m\u001b[0mvalidate_args\u001b[0m\u001b[0;34m)\u001b[0m\u001b[0;34m\u001b[0m\u001b[0;34m\u001b[0m\u001b[0m\n\u001b[1;32m     38\u001b[0m \u001b[0;34m\u001b[0m\u001b[0m\n",
      "\u001b[0;32m~/projekty/puma/venv/lib/python3.7/site-packages/torch/distributions/dirichlet.py\u001b[0m in \u001b[0;36m__init__\u001b[0;34m(self, concentration, validate_args)\u001b[0m\n\u001b[1;32m     50\u001b[0m         \u001b[0mself\u001b[0m\u001b[0;34m.\u001b[0m\u001b[0mconcentration\u001b[0m \u001b[0;34m=\u001b[0m \u001b[0mconcentration\u001b[0m\u001b[0;34m\u001b[0m\u001b[0;34m\u001b[0m\u001b[0m\n\u001b[1;32m     51\u001b[0m         \u001b[0mbatch_shape\u001b[0m\u001b[0;34m,\u001b[0m \u001b[0mevent_shape\u001b[0m \u001b[0;34m=\u001b[0m \u001b[0mconcentration\u001b[0m\u001b[0;34m.\u001b[0m\u001b[0mshape\u001b[0m\u001b[0;34m[\u001b[0m\u001b[0;34m:\u001b[0m\u001b[0;34m-\u001b[0m\u001b[0;36m1\u001b[0m\u001b[0;34m]\u001b[0m\u001b[0;34m,\u001b[0m \u001b[0mconcentration\u001b[0m\u001b[0;34m.\u001b[0m\u001b[0mshape\u001b[0m\u001b[0;34m[\u001b[0m\u001b[0;34m-\u001b[0m\u001b[0;36m1\u001b[0m\u001b[0;34m:\u001b[0m\u001b[0;34m]\u001b[0m\u001b[0;34m\u001b[0m\u001b[0;34m\u001b[0m\u001b[0m\n\u001b[0;32m---> 52\u001b[0;31m         \u001b[0msuper\u001b[0m\u001b[0;34m(\u001b[0m\u001b[0mDirichlet\u001b[0m\u001b[0;34m,\u001b[0m \u001b[0mself\u001b[0m\u001b[0;34m)\u001b[0m\u001b[0;34m.\u001b[0m\u001b[0m__init__\u001b[0m\u001b[0;34m(\u001b[0m\u001b[0mbatch_shape\u001b[0m\u001b[0;34m,\u001b[0m \u001b[0mevent_shape\u001b[0m\u001b[0;34m,\u001b[0m \u001b[0mvalidate_args\u001b[0m\u001b[0;34m=\u001b[0m\u001b[0mvalidate_args\u001b[0m\u001b[0;34m)\u001b[0m\u001b[0;34m\u001b[0m\u001b[0;34m\u001b[0m\u001b[0m\n\u001b[0m\u001b[1;32m     53\u001b[0m \u001b[0;34m\u001b[0m\u001b[0m\n\u001b[1;32m     54\u001b[0m     \u001b[0;32mdef\u001b[0m \u001b[0mexpand\u001b[0m\u001b[0;34m(\u001b[0m\u001b[0mself\u001b[0m\u001b[0;34m,\u001b[0m \u001b[0mbatch_shape\u001b[0m\u001b[0;34m,\u001b[0m \u001b[0m_instance\u001b[0m\u001b[0;34m=\u001b[0m\u001b[0;32mNone\u001b[0m\u001b[0;34m)\u001b[0m\u001b[0;34m:\u001b[0m\u001b[0;34m\u001b[0m\u001b[0;34m\u001b[0m\u001b[0m\n",
      "\u001b[0;32m~/projekty/puma/venv/lib/python3.7/site-packages/torch/distributions/distribution.py\u001b[0m in \u001b[0;36m__init__\u001b[0;34m(self, batch_shape, event_shape, validate_args)\u001b[0m\n\u001b[1;32m     25\u001b[0m         \u001b[0mself\u001b[0m\u001b[0;34m.\u001b[0m\u001b[0m_batch_shape\u001b[0m \u001b[0;34m=\u001b[0m \u001b[0mbatch_shape\u001b[0m\u001b[0;34m\u001b[0m\u001b[0;34m\u001b[0m\u001b[0m\n\u001b[1;32m     26\u001b[0m         \u001b[0mself\u001b[0m\u001b[0;34m.\u001b[0m\u001b[0m_event_shape\u001b[0m \u001b[0;34m=\u001b[0m \u001b[0mevent_shape\u001b[0m\u001b[0;34m\u001b[0m\u001b[0;34m\u001b[0m\u001b[0m\n\u001b[0;32m---> 27\u001b[0;31m         \u001b[0;32mif\u001b[0m \u001b[0mvalidate_args\u001b[0m \u001b[0;32mis\u001b[0m \u001b[0;32mnot\u001b[0m \u001b[0;32mNone\u001b[0m\u001b[0;34m:\u001b[0m\u001b[0;34m\u001b[0m\u001b[0;34m\u001b[0m\u001b[0m\n\u001b[0m\u001b[1;32m     28\u001b[0m             \u001b[0mself\u001b[0m\u001b[0;34m.\u001b[0m\u001b[0m_validate_args\u001b[0m \u001b[0;34m=\u001b[0m \u001b[0mvalidate_args\u001b[0m\u001b[0;34m\u001b[0m\u001b[0;34m\u001b[0m\u001b[0m\n\u001b[1;32m     29\u001b[0m         \u001b[0;32mif\u001b[0m \u001b[0mself\u001b[0m\u001b[0;34m.\u001b[0m\u001b[0m_validate_args\u001b[0m\u001b[0;34m:\u001b[0m\u001b[0;34m\u001b[0m\u001b[0;34m\u001b[0m\u001b[0m\n",
      "\u001b[0;31mKeyboardInterrupt\u001b[0m: "
     ]
    }
   ],
   "source": [
    "for user, observations in users.items():\n",
    "    model.observe(user, observations)\n",
    "model.infer(2000)"
   ]
  },
  {
   "cell_type": "code",
   "execution_count": 263,
   "metadata": {},
   "outputs": [
    {
     "data": {
      "text/plain": [
       "array([0.01736466, 0.01686192, 0.01662194, 0.01695778, 0.01602201,\n",
       "       0.01797888, 0.0184483 , 0.01787258, 0.01829689, 0.01698616,\n",
       "       0.01581833, 0.01735384, 0.01712149, 0.01812812, 0.01651926,\n",
       "       0.01553261, 0.01612105, 0.01679028, 0.01689042, 0.01786496,\n",
       "       0.01728389, 0.01719488, 0.01617063, 0.01508683, 0.01800878,\n",
       "       0.01718871, 0.01760238, 0.01757941, 0.01769511, 0.01845183,\n",
       "       0.01618276, 0.01623814, 0.0176825 , 0.01759106, 0.0182484 ,\n",
       "       0.01706097, 0.01738195, 0.01854915, 0.0180332 , 0.01722343,\n",
       "       0.01651153, 0.01742065, 0.01799831, 0.01719332, 0.0161303 ,\n",
       "       0.01870553, 0.01716016, 0.0167863 , 0.01694542, 0.01734252,\n",
       "       0.01713439, 0.01654059, 0.01709703, 0.01860971, 0.0158019 ,\n",
       "       0.017745  , 0.01917801, 0.01769367], dtype=float32)"
      ]
     },
     "execution_count": 263,
     "metadata": {},
     "output_type": "execute_result"
    }
   ],
   "source": [
    "pyro.param('country_probs').detach().numpy()"
   ]
  },
  {
   "cell_type": "markdown",
   "metadata": {},
   "source": [
    "## Latent trait distribution\n",
    "Display a trait probability distribution for each user in the database, based on their statements"
   ]
  },
  {
   "cell_type": "code",
   "execution_count": null,
   "metadata": {},
   "outputs": [],
   "source": [
    "x = model.sample(1000)['trait'].detach().numpy().reshape(1000, 5, -1).transpose([2, 0, 1])\n",
    "\n",
    "dfs = []\n",
    "for i, user in enumerate(users.keys()):\n",
    "    realistations = x[i, :, :]\n",
    "    \n",
    "    df = pd.DataFrame( {\n",
    "        name: realistations[:, i]\n",
    "        for i, name in enumerate([\"extroversion\", \"neuroticism\", \"agreeableness\", \"conscientiousness\", \"openness\"])\n",
    "    })\n",
    "\n",
    "    df = pd.melt(df, var_name=\"Trait\")\n",
    "    df['user'] = user[:5]\n",
    "    \n",
    "    dfs.append(df)\n",
    "\n",
    "data_frame = pd.concat(dfs, ignore_index=True)\n",
    "\n",
    "g = sns.FacetGrid(data=data_frame, row=\"user\", col=\"Trait\", hue=\"Trait\")\n",
    "g.map(sns.distplot, \"value\")"
   ]
  },
  {
   "cell_type": "code",
   "execution_count": null,
   "metadata": {},
   "outputs": [],
   "source": []
  }
 ],
 "metadata": {
  "kernelspec": {
   "display_name": "Python 3",
   "language": "python",
   "name": "python3"
  },
  "language_info": {
   "codemirror_mode": {
    "name": "ipython",
    "version": 3
   },
   "file_extension": ".py",
   "mimetype": "text/x-python",
   "name": "python",
   "nbconvert_exporter": "python",
   "pygments_lexer": "ipython3",
   "version": "3.7.5"
  }
 },
 "nbformat": 4,
 "nbformat_minor": 4
}
